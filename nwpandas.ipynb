{
 "cells": [
  {
   "cell_type": "code",
   "execution_count": 1,
   "id": "658a02c3-b351-4caf-8d79-de669eee3f6e",
   "metadata": {},
   "outputs": [],
   "source": [
    "import pandas as pd\n",
    "course_name = [\"Data Science\", \"Machine Learning\", \"Big Data\", \"Data Engineer\"]\n",
    "duration = [2,3,6,4]\n",
    "df = pd.DataFrame(data = {\"course_name\" : course_name, \"duration\" : duration})"
   ]
  },
  {
   "cell_type": "code",
   "execution_count": 2,
   "id": "b4974c1d-e1c2-460d-b544-86bd91c9aa3a",
   "metadata": {},
   "outputs": [
    {
     "data": {
      "text/html": [
       "<div>\n",
       "<style scoped>\n",
       "    .dataframe tbody tr th:only-of-type {\n",
       "        vertical-align: middle;\n",
       "    }\n",
       "\n",
       "    .dataframe tbody tr th {\n",
       "        vertical-align: top;\n",
       "    }\n",
       "\n",
       "    .dataframe thead th {\n",
       "        text-align: right;\n",
       "    }\n",
       "</style>\n",
       "<table border=\"1\" class=\"dataframe\">\n",
       "  <thead>\n",
       "    <tr style=\"text-align: right;\">\n",
       "      <th></th>\n",
       "      <th>course_name</th>\n",
       "      <th>duration</th>\n",
       "    </tr>\n",
       "  </thead>\n",
       "  <tbody>\n",
       "    <tr>\n",
       "      <th>0</th>\n",
       "      <td>Data Science</td>\n",
       "      <td>2</td>\n",
       "    </tr>\n",
       "    <tr>\n",
       "      <th>1</th>\n",
       "      <td>Machine Learning</td>\n",
       "      <td>3</td>\n",
       "    </tr>\n",
       "    <tr>\n",
       "      <th>2</th>\n",
       "      <td>Big Data</td>\n",
       "      <td>6</td>\n",
       "    </tr>\n",
       "    <tr>\n",
       "      <th>3</th>\n",
       "      <td>Data Engineer</td>\n",
       "      <td>4</td>\n",
       "    </tr>\n",
       "  </tbody>\n",
       "</table>\n",
       "</div>"
      ],
      "text/plain": [
       "        course_name  duration\n",
       "0      Data Science         2\n",
       "1  Machine Learning         3\n",
       "2          Big Data         6\n",
       "3     Data Engineer         4"
      ]
     },
     "execution_count": 2,
     "metadata": {},
     "output_type": "execute_result"
    }
   ],
   "source": [
    "df"
   ]
  },
  {
   "cell_type": "markdown",
   "id": "da91908f-fab6-45d2-b42d-c69d9c0efbd4",
   "metadata": {},
   "source": [
    "Q1. Write a code to print the data present in the second row of the dataframe, df."
   ]
  },
  {
   "cell_type": "code",
   "execution_count": 3,
   "id": "54ad4550-f01a-4f68-92a2-e8725fd8a700",
   "metadata": {},
   "outputs": [],
   "source": [
    "second_row =df.iloc[1]"
   ]
  },
  {
   "cell_type": "code",
   "execution_count": 4,
   "id": "b248566b-4cfb-4562-82b4-2c042cc5df01",
   "metadata": {},
   "outputs": [
    {
     "data": {
      "text/plain": [
       "course_name    Machine Learning\n",
       "duration                      3\n",
       "Name: 1, dtype: object"
      ]
     },
     "execution_count": 4,
     "metadata": {},
     "output_type": "execute_result"
    }
   ],
   "source": [
    "second_row"
   ]
  },
  {
   "cell_type": "markdown",
   "id": "2daacf60-e6b7-4927-bf7f-e38580654ace",
   "metadata": {},
   "source": [
    "Q2. What is the difference between the functions loc and iloc in pandas.DataFrame?"
   ]
  },
  {
   "cell_type": "markdown",
   "id": "8ee90491-a5b7-4323-8e78-b873ee272923",
   "metadata": {},
   "source": [
    "loc: This function is label-based indexing. It is used to access a group of rows and columns by labels or a boolean array. When using loc, you refer to the row and column labels explicitly.\n",
    "\n",
    "iloc: This function is integer-based indexing. It is used to access a group of rows and columns by integer position. When using iloc, you refer to the numerical index of the rows and columns"
   ]
  },
  {
   "cell_type": "markdown",
   "id": "44a8e487-d6f3-4d39-a24a-4b57a5b2136f",
   "metadata": {},
   "source": [
    "Q3. Reindex the given dataframe using a variable, reindex = [3,0,1,2] and store it in the variable, new_df\n",
    "then find the output for both new_df.loc[2] and new_df.iloc[2]."
   ]
  },
  {
   "cell_type": "code",
   "execution_count": 5,
   "id": "a4a02717-4dc2-416f-af94-c75fb4697705",
   "metadata": {},
   "outputs": [],
   "source": [
    "reindex = [3,0,1,2]\n",
    "new_df = df.reindex(reindex)"
   ]
  },
  {
   "cell_type": "code",
   "execution_count": 6,
   "id": "fca55dec-0f58-4c26-a3f8-df6af4dafe9e",
   "metadata": {},
   "outputs": [
    {
     "data": {
      "text/html": [
       "<div>\n",
       "<style scoped>\n",
       "    .dataframe tbody tr th:only-of-type {\n",
       "        vertical-align: middle;\n",
       "    }\n",
       "\n",
       "    .dataframe tbody tr th {\n",
       "        vertical-align: top;\n",
       "    }\n",
       "\n",
       "    .dataframe thead th {\n",
       "        text-align: right;\n",
       "    }\n",
       "</style>\n",
       "<table border=\"1\" class=\"dataframe\">\n",
       "  <thead>\n",
       "    <tr style=\"text-align: right;\">\n",
       "      <th></th>\n",
       "      <th>course_name</th>\n",
       "      <th>duration</th>\n",
       "    </tr>\n",
       "  </thead>\n",
       "  <tbody>\n",
       "    <tr>\n",
       "      <th>3</th>\n",
       "      <td>Data Engineer</td>\n",
       "      <td>4</td>\n",
       "    </tr>\n",
       "    <tr>\n",
       "      <th>0</th>\n",
       "      <td>Data Science</td>\n",
       "      <td>2</td>\n",
       "    </tr>\n",
       "    <tr>\n",
       "      <th>1</th>\n",
       "      <td>Machine Learning</td>\n",
       "      <td>3</td>\n",
       "    </tr>\n",
       "    <tr>\n",
       "      <th>2</th>\n",
       "      <td>Big Data</td>\n",
       "      <td>6</td>\n",
       "    </tr>\n",
       "  </tbody>\n",
       "</table>\n",
       "</div>"
      ],
      "text/plain": [
       "        course_name  duration\n",
       "3     Data Engineer         4\n",
       "0      Data Science         2\n",
       "1  Machine Learning         3\n",
       "2          Big Data         6"
      ]
     },
     "execution_count": 6,
     "metadata": {},
     "output_type": "execute_result"
    }
   ],
   "source": [
    "new_df"
   ]
  },
  {
   "cell_type": "code",
   "execution_count": 7,
   "id": "be6b0d91-fef9-40f4-9da9-a8c3b9d91960",
   "metadata": {},
   "outputs": [
    {
     "data": {
      "text/plain": [
       "course_name    Big Data\n",
       "duration              6\n",
       "Name: 2, dtype: object"
      ]
     },
     "execution_count": 7,
     "metadata": {},
     "output_type": "execute_result"
    }
   ],
   "source": [
    "new_df.loc[2]"
   ]
  },
  {
   "cell_type": "code",
   "execution_count": 8,
   "id": "2a878c3f-6006-4194-800e-773addee9084",
   "metadata": {},
   "outputs": [
    {
     "data": {
      "text/plain": [
       "course_name    Machine Learning\n",
       "duration                      3\n",
       "Name: 1, dtype: object"
      ]
     },
     "execution_count": 8,
     "metadata": {},
     "output_type": "execute_result"
    }
   ],
   "source": [
    "new_df.iloc[2]"
   ]
  },
  {
   "cell_type": "markdown",
   "id": "39d2a430-58b9-4a39-acdf-5ed2242d376b",
   "metadata": {},
   "source": [
    "loc reads index as 1,2,3\n",
    "but iloc reads as 0,1,2"
   ]
  },
  {
   "cell_type": "code",
   "execution_count": 9,
   "id": "59535a3a-3d42-493c-961a-fa77ac3d28a7",
   "metadata": {},
   "outputs": [],
   "source": [
    "import pandas as pd\n",
    "import numpy as np\n",
    "columns = ['column_1', 'column_2', 'column_3', 'column_4', 'column_5', 'column_6']\n",
    "indices = [1,2,3,4,5,6]\n",
    "df1 = pd.DataFrame(np.random.rand(6,6), columns = columns, index = indices)"
   ]
  },
  {
   "cell_type": "code",
   "execution_count": 10,
   "id": "7a06db95-85a8-48cc-aaa2-46d0a7bba23f",
   "metadata": {},
   "outputs": [
    {
     "data": {
      "text/html": [
       "<div>\n",
       "<style scoped>\n",
       "    .dataframe tbody tr th:only-of-type {\n",
       "        vertical-align: middle;\n",
       "    }\n",
       "\n",
       "    .dataframe tbody tr th {\n",
       "        vertical-align: top;\n",
       "    }\n",
       "\n",
       "    .dataframe thead th {\n",
       "        text-align: right;\n",
       "    }\n",
       "</style>\n",
       "<table border=\"1\" class=\"dataframe\">\n",
       "  <thead>\n",
       "    <tr style=\"text-align: right;\">\n",
       "      <th></th>\n",
       "      <th>column_1</th>\n",
       "      <th>column_2</th>\n",
       "      <th>column_3</th>\n",
       "      <th>column_4</th>\n",
       "      <th>column_5</th>\n",
       "      <th>column_6</th>\n",
       "    </tr>\n",
       "  </thead>\n",
       "  <tbody>\n",
       "    <tr>\n",
       "      <th>1</th>\n",
       "      <td>0.748719</td>\n",
       "      <td>0.648480</td>\n",
       "      <td>0.737728</td>\n",
       "      <td>0.540101</td>\n",
       "      <td>0.696972</td>\n",
       "      <td>0.912956</td>\n",
       "    </tr>\n",
       "    <tr>\n",
       "      <th>2</th>\n",
       "      <td>0.987953</td>\n",
       "      <td>0.137124</td>\n",
       "      <td>0.549048</td>\n",
       "      <td>0.922032</td>\n",
       "      <td>0.553040</td>\n",
       "      <td>0.275388</td>\n",
       "    </tr>\n",
       "    <tr>\n",
       "      <th>3</th>\n",
       "      <td>0.675904</td>\n",
       "      <td>0.626977</td>\n",
       "      <td>0.130585</td>\n",
       "      <td>0.411938</td>\n",
       "      <td>0.175465</td>\n",
       "      <td>0.896634</td>\n",
       "    </tr>\n",
       "    <tr>\n",
       "      <th>4</th>\n",
       "      <td>0.978248</td>\n",
       "      <td>0.374707</td>\n",
       "      <td>0.836491</td>\n",
       "      <td>0.026770</td>\n",
       "      <td>0.855086</td>\n",
       "      <td>0.738255</td>\n",
       "    </tr>\n",
       "    <tr>\n",
       "      <th>5</th>\n",
       "      <td>0.811181</td>\n",
       "      <td>0.668282</td>\n",
       "      <td>0.349432</td>\n",
       "      <td>0.633652</td>\n",
       "      <td>0.246758</td>\n",
       "      <td>0.574015</td>\n",
       "    </tr>\n",
       "    <tr>\n",
       "      <th>6</th>\n",
       "      <td>0.408009</td>\n",
       "      <td>0.514693</td>\n",
       "      <td>0.481389</td>\n",
       "      <td>0.389084</td>\n",
       "      <td>0.874109</td>\n",
       "      <td>0.751634</td>\n",
       "    </tr>\n",
       "  </tbody>\n",
       "</table>\n",
       "</div>"
      ],
      "text/plain": [
       "   column_1  column_2  column_3  column_4  column_5  column_6\n",
       "1  0.748719  0.648480  0.737728  0.540101  0.696972  0.912956\n",
       "2  0.987953  0.137124  0.549048  0.922032  0.553040  0.275388\n",
       "3  0.675904  0.626977  0.130585  0.411938  0.175465  0.896634\n",
       "4  0.978248  0.374707  0.836491  0.026770  0.855086  0.738255\n",
       "5  0.811181  0.668282  0.349432  0.633652  0.246758  0.574015\n",
       "6  0.408009  0.514693  0.481389  0.389084  0.874109  0.751634"
      ]
     },
     "execution_count": 10,
     "metadata": {},
     "output_type": "execute_result"
    }
   ],
   "source": [
    "df1"
   ]
  },
  {
   "cell_type": "markdown",
   "id": "847a6dbe-eedc-4857-ba2b-05a9f06a383d",
   "metadata": {},
   "source": [
    "Q4. Write a code to find the following statistical measurements for the above dataframe df1:\n",
    "(i) mean of each and every column present in the dataframe.\n",
    "(ii) standard deviation of column, ‘column_2’"
   ]
  },
  {
   "cell_type": "code",
   "execution_count": 11,
   "id": "570671de-c129-42cb-a519-7603d600632b",
   "metadata": {},
   "outputs": [
    {
     "data": {
      "text/plain": [
       "column_1    0.768336\n",
       "column_2    0.495044\n",
       "column_3    0.514112\n",
       "column_4    0.487263\n",
       "column_5    0.566905\n",
       "column_6    0.691480\n",
       "dtype: float64"
      ]
     },
     "execution_count": 11,
     "metadata": {},
     "output_type": "execute_result"
    }
   ],
   "source": [
    "df1.mean()"
   ]
  },
  {
   "cell_type": "code",
   "execution_count": 12,
   "id": "d056400d-7122-49e1-8af0-7e4975d4393b",
   "metadata": {},
   "outputs": [
    {
     "data": {
      "text/plain": [
       "0.20684981557366786"
      ]
     },
     "execution_count": 12,
     "metadata": {},
     "output_type": "execute_result"
    }
   ],
   "source": [
    "df1.std()[1]"
   ]
  },
  {
   "cell_type": "markdown",
   "id": "b04acdb4-6af2-4c4a-9c37-99b5618401bc",
   "metadata": {},
   "source": [
    "Q5. Replace the data present in the second row of column, ‘column_2’ by a string variable then find the\n",
    "mean of column, column_2.\n",
    "If you are getting errors in executing it then explain why.\n",
    "[Hint: To replace the data use df1.loc[] and equate this to string data of your choice.]"
   ]
  },
  {
   "cell_type": "code",
   "execution_count": 13,
   "id": "4b4a6ab2-66e3-4822-8772-4386352e113d",
   "metadata": {},
   "outputs": [],
   "source": [
    "second_row = \"faizan\""
   ]
  },
  {
   "cell_type": "code",
   "execution_count": 14,
   "id": "9a5de1fe-ac0b-4e52-abf6-c1d4c87d1738",
   "metadata": {},
   "outputs": [],
   "source": [
    "df1.loc[2, \"column_2\"] = second_row"
   ]
  },
  {
   "cell_type": "code",
   "execution_count": 15,
   "id": "0b319405-8051-4127-9d08-cae4d18700dd",
   "metadata": {},
   "outputs": [
    {
     "data": {
      "text/html": [
       "<div>\n",
       "<style scoped>\n",
       "    .dataframe tbody tr th:only-of-type {\n",
       "        vertical-align: middle;\n",
       "    }\n",
       "\n",
       "    .dataframe tbody tr th {\n",
       "        vertical-align: top;\n",
       "    }\n",
       "\n",
       "    .dataframe thead th {\n",
       "        text-align: right;\n",
       "    }\n",
       "</style>\n",
       "<table border=\"1\" class=\"dataframe\">\n",
       "  <thead>\n",
       "    <tr style=\"text-align: right;\">\n",
       "      <th></th>\n",
       "      <th>column_1</th>\n",
       "      <th>column_2</th>\n",
       "      <th>column_3</th>\n",
       "      <th>column_4</th>\n",
       "      <th>column_5</th>\n",
       "      <th>column_6</th>\n",
       "    </tr>\n",
       "  </thead>\n",
       "  <tbody>\n",
       "    <tr>\n",
       "      <th>1</th>\n",
       "      <td>0.748719</td>\n",
       "      <td>0.64848</td>\n",
       "      <td>0.737728</td>\n",
       "      <td>0.540101</td>\n",
       "      <td>0.696972</td>\n",
       "      <td>0.912956</td>\n",
       "    </tr>\n",
       "    <tr>\n",
       "      <th>2</th>\n",
       "      <td>0.987953</td>\n",
       "      <td>faizan</td>\n",
       "      <td>0.549048</td>\n",
       "      <td>0.922032</td>\n",
       "      <td>0.553040</td>\n",
       "      <td>0.275388</td>\n",
       "    </tr>\n",
       "    <tr>\n",
       "      <th>3</th>\n",
       "      <td>0.675904</td>\n",
       "      <td>0.626977</td>\n",
       "      <td>0.130585</td>\n",
       "      <td>0.411938</td>\n",
       "      <td>0.175465</td>\n",
       "      <td>0.896634</td>\n",
       "    </tr>\n",
       "    <tr>\n",
       "      <th>4</th>\n",
       "      <td>0.978248</td>\n",
       "      <td>0.374707</td>\n",
       "      <td>0.836491</td>\n",
       "      <td>0.026770</td>\n",
       "      <td>0.855086</td>\n",
       "      <td>0.738255</td>\n",
       "    </tr>\n",
       "    <tr>\n",
       "      <th>5</th>\n",
       "      <td>0.811181</td>\n",
       "      <td>0.668282</td>\n",
       "      <td>0.349432</td>\n",
       "      <td>0.633652</td>\n",
       "      <td>0.246758</td>\n",
       "      <td>0.574015</td>\n",
       "    </tr>\n",
       "    <tr>\n",
       "      <th>6</th>\n",
       "      <td>0.408009</td>\n",
       "      <td>0.514693</td>\n",
       "      <td>0.481389</td>\n",
       "      <td>0.389084</td>\n",
       "      <td>0.874109</td>\n",
       "      <td>0.751634</td>\n",
       "    </tr>\n",
       "  </tbody>\n",
       "</table>\n",
       "</div>"
      ],
      "text/plain": [
       "   column_1  column_2  column_3  column_4  column_5  column_6\n",
       "1  0.748719   0.64848  0.737728  0.540101  0.696972  0.912956\n",
       "2  0.987953    faizan  0.549048  0.922032  0.553040  0.275388\n",
       "3  0.675904  0.626977  0.130585  0.411938  0.175465  0.896634\n",
       "4  0.978248  0.374707  0.836491  0.026770  0.855086  0.738255\n",
       "5  0.811181  0.668282  0.349432  0.633652  0.246758  0.574015\n",
       "6  0.408009  0.514693  0.481389  0.389084  0.874109  0.751634"
      ]
     },
     "execution_count": 15,
     "metadata": {},
     "output_type": "execute_result"
    }
   ],
   "source": [
    "df1"
   ]
  },
  {
   "cell_type": "code",
   "execution_count": 16,
   "id": "9dbd625d-6881-4396-9a0c-20f947f90d3f",
   "metadata": {},
   "outputs": [
    {
     "name": "stderr",
     "output_type": "stream",
     "text": [
      "/tmp/ipykernel_1986/4189027928.py:1: FutureWarning: The default value of numeric_only in DataFrame.mean is deprecated. In a future version, it will default to False. In addition, specifying 'numeric_only=None' is deprecated. Select only valid columns or specify the value of numeric_only to silence this warning.\n",
      "  df1.mean()[1]\n"
     ]
    },
    {
     "data": {
      "text/plain": [
       "0.5141120634148963"
      ]
     },
     "execution_count": 16,
     "metadata": {},
     "output_type": "execute_result"
    }
   ],
   "source": [
    "df1.mean()[1]"
   ]
  },
  {
   "cell_type": "markdown",
   "id": "c128eed8-cc95-4e63-8694-f7232f4034b2",
   "metadata": {},
   "source": [
    "we can't get mean cause there is string not a numberical value."
   ]
  },
  {
   "cell_type": "markdown",
   "id": "9d6c0b75-cc63-483a-8311-dff9cb507ade",
   "metadata": {},
   "source": [
    "Q6. What do you understand about the windows function in pandas and list the types of windows\n",
    "functions?"
   ]
  },
  {
   "cell_type": "markdown",
   "id": "e95e8a8d-9028-4528-8d4d-85382e3b5531",
   "metadata": {},
   "source": [
    "In pandas, a \"window function\" refers to a class of functions that perform calculations over a specified \"window\" or \"rolling\" range of data in a pandas DataFrame or Series."
   ]
  },
  {
   "cell_type": "code",
   "execution_count": 17,
   "id": "6e0d4423-196e-4436-823a-5242a6b29a75",
   "metadata": {},
   "outputs": [],
   "source": [
    "windows_functions = [\"Rolling Functions\",\"Exponential Moving Functions\",\"Aggregating Functions\",\"Shifting Functions\",\"Expanding Functions\"]"
   ]
  },
  {
   "cell_type": "code",
   "execution_count": 18,
   "id": "2a8d7950-fd70-44fe-9e32-17d3602cd4f5",
   "metadata": {},
   "outputs": [
    {
     "data": {
      "text/plain": [
       "['Rolling Functions',\n",
       " 'Exponential Moving Functions',\n",
       " 'Aggregating Functions',\n",
       " 'Shifting Functions',\n",
       " 'Expanding Functions']"
      ]
     },
     "execution_count": 18,
     "metadata": {},
     "output_type": "execute_result"
    }
   ],
   "source": [
    "windows_functions"
   ]
  },
  {
   "cell_type": "markdown",
   "id": "14b3d2eb-0c45-421d-b23f-21b982f2b029",
   "metadata": {},
   "source": [
    "Q7. Write a code to print only the current month and year at the time of answering this question.\n",
    "[Hint: Use pandas.datetime function]"
   ]
  },
  {
   "cell_type": "code",
   "execution_count": 22,
   "id": "9cabb1ab-7597-486e-a26c-c01af3f382dd",
   "metadata": {},
   "outputs": [],
   "source": [
    "import datetime\n",
    "\n",
    "current_date = datetime.datetime.now()"
   ]
  },
  {
   "cell_type": "code",
   "execution_count": 23,
   "id": "877c1c96-5db3-4ae7-9f0d-e7213fa6590f",
   "metadata": {},
   "outputs": [],
   "source": [
    "current_month = pd.Timestamp(current_date).month"
   ]
  },
  {
   "cell_type": "code",
   "execution_count": 24,
   "id": "18c800b5-9ef1-42bf-b69e-6a489ddafc63",
   "metadata": {},
   "outputs": [],
   "source": [
    "current_year = pd.Timestamp(current_date).year"
   ]
  },
  {
   "cell_type": "code",
   "execution_count": 25,
   "id": "a054512f-cbff-4893-90ab-93527c82d706",
   "metadata": {},
   "outputs": [
    {
     "data": {
      "text/plain": [
       "8"
      ]
     },
     "execution_count": 25,
     "metadata": {},
     "output_type": "execute_result"
    }
   ],
   "source": [
    "current_month"
   ]
  },
  {
   "cell_type": "code",
   "execution_count": 26,
   "id": "d8d10114-9ffe-459e-85e7-e009296270d9",
   "metadata": {},
   "outputs": [
    {
     "data": {
      "text/plain": [
       "2023"
      ]
     },
     "execution_count": 26,
     "metadata": {},
     "output_type": "execute_result"
    }
   ],
   "source": [
    "current_year"
   ]
  },
  {
   "cell_type": "code",
   "execution_count": 31,
   "id": "3d59d7b7-4cd3-4ecc-8a84-9b720cdd7660",
   "metadata": {},
   "outputs": [
    {
     "name": "stdout",
     "output_type": "stream",
     "text": [
      "8 / 2023\n"
     ]
    }
   ],
   "source": [
    "print(current_month, \"/\",current_year )"
   ]
  },
  {
   "cell_type": "markdown",
   "id": "41194799-8983-4891-90f9-3e23c4ddca09",
   "metadata": {},
   "source": [
    "Q8. Write a Python program that takes in two dates as input (in the format YYYY-MM-DD) and\n",
    "calculates the difference between them in days, hours, and minutes using Pandas time delta. The\n",
    "program should prompt the user to enter the dates and display the result."
   ]
  },
  {
   "cell_type": "code",
   "execution_count": 32,
   "id": "5759a82f-29a4-4e55-a185-0a60a8da9ab0",
   "metadata": {},
   "outputs": [
    {
     "name": "stdin",
     "output_type": "stream",
     "text": [
      "Enter the first date (YYYY-MM-DD):  2023-8-4\n",
      "Enter the second date (YYYY-MM-DD):  2022-8-4\n"
     ]
    },
    {
     "name": "stdout",
     "output_type": "stream",
     "text": [
      "Time Difference:\n",
      "Days: -365\n",
      "Hours: 0\n",
      "Minutes: 0\n"
     ]
    }
   ],
   "source": [
    "import pandas as pd\n",
    "\n",
    "\n",
    "date1_str = input(\"Enter the first date (YYYY-MM-DD): \")\n",
    "date2_str = input(\"Enter the second date (YYYY-MM-DD): \")\n",
    "\n",
    "\n",
    "date1 = pd.to_datetime(date1_str)\n",
    "date2 = pd.to_datetime(date2_str)\n",
    "\n",
    "\n",
    "time_difference = date2 - date1\n",
    "\n",
    "\n",
    "days = time_difference.days\n",
    "hours = time_difference.seconds \n",
    "minutes = (time_difference.seconds) % 60\n",
    "\n",
    "\n",
    "print(\"Time Difference:\")\n",
    "print(f\"Days: {days}\")\n",
    "print(f\"Hours: {hours}\")\n",
    "print(f\"Minutes: {minutes}\")\n"
   ]
  },
  {
   "cell_type": "code",
   "execution_count": null,
   "id": "c76f5d54-c66a-4490-868f-7d5e00c5c697",
   "metadata": {},
   "outputs": [],
   "source": []
  }
 ],
 "metadata": {
  "kernelspec": {
   "display_name": "Python 3 (ipykernel)",
   "language": "python",
   "name": "python3"
  },
  "language_info": {
   "codemirror_mode": {
    "name": "ipython",
    "version": 3
   },
   "file_extension": ".py",
   "mimetype": "text/x-python",
   "name": "python",
   "nbconvert_exporter": "python",
   "pygments_lexer": "ipython3",
   "version": "3.10.8"
  }
 },
 "nbformat": 4,
 "nbformat_minor": 5
}
